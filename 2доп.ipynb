{
  "nbformat": 4,
  "nbformat_minor": 0,
  "metadata": {
    "colab": {
      "provenance": [],
      "authorship_tag": "ABX9TyOWo/1g5f8G4Yl62XUffsQk",
      "include_colab_link": true
    },
    "kernelspec": {
      "name": "python3",
      "display_name": "Python 3"
    },
    "language_info": {
      "name": "python"
    }
  },
  "cells": [
    {
      "cell_type": "markdown",
      "metadata": {
        "id": "view-in-github",
        "colab_type": "text"
      },
      "source": [
        "<a href=\"https://colab.research.google.com/github/nezuk00/lab3/blob/main/2%D0%B4%D0%BE%D0%BF.ipynb\" target=\"_parent\"><img src=\"https://colab.research.google.com/assets/colab-badge.svg\" alt=\"Open In Colab\"/></a>"
      ]
    },
    {
      "cell_type": "code",
      "execution_count": 6,
      "metadata": {
        "id": "LD6V3foQvtuR"
      },
      "outputs": [],
      "source": [
        "class Student:\n",
        "    def __init__(self, name, student_id):\n",
        "        self.name = name\n",
        "        self.student_id = student_id\n",
        "\n",
        "    def study(self):\n",
        "        print(f\"{self.name} учится.\")\n",
        "\n",
        "\n",
        "\n",
        "class Teacher:\n",
        "    def __init__(self, subject):\n",
        "        self.subject = subject\n",
        "\n",
        "    def teach(self):\n",
        "        print(f\"Преподаватель ведет занятие по предмету: {self.subject}\")\n",
        "\n",
        "\n",
        "# Класс Ассистент, наследуется и от Student, и от Teacher\n",
        "class Assistant(Student, Teacher):\n",
        "    def __init__(self, name, student_id, subject):\n",
        "        # Инициализация родительских классов\n",
        "        Student.__init__(self, name, student_id)\n",
        "        Teacher.__init__(self, subject)\n",
        "\n",
        "    def help_student(self):\n",
        "        print(f\"Ассистент {self.name} помогает студентам по предмету {self.subject}.\")"
      ]
    }
  ]
}