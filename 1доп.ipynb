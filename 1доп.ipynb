{
  "nbformat": 4,
  "nbformat_minor": 0,
  "metadata": {
    "colab": {
      "provenance": [],
      "authorship_tag": "ABX9TyPeMeeH/GB/7Dnx5+j6m+RC",
      "include_colab_link": true
    },
    "kernelspec": {
      "name": "python3",
      "display_name": "Python 3"
    },
    "language_info": {
      "name": "python"
    }
  },
  "cells": [
    {
      "cell_type": "markdown",
      "metadata": {
        "id": "view-in-github",
        "colab_type": "text"
      },
      "source": [
        "<a href=\"https://colab.research.google.com/github/nezuk00/lab3/blob/main/1%D0%B4%D0%BE%D0%BF.ipynb\" target=\"_parent\"><img src=\"https://colab.research.google.com/assets/colab-badge.svg\" alt=\"Open In Colab\"/></a>"
      ]
    },
    {
      "cell_type": "code",
      "execution_count": 1,
      "metadata": {
        "colab": {
          "base_uri": "https://localhost:8080/"
        },
        "id": "LD6V3foQvtuR",
        "outputId": "7a33d093-99d3-4585-bdc0-d137e4f2fecd"
      },
      "outputs": [
        {
          "output_type": "stream",
          "name": "stdout",
          "text": [
            "Цельсий: 25\n",
            "Фаренгейт: 77.0\n",
            "Цельсий: 100\n",
            "Фаренгейт: 212.0\n"
          ]
        }
      ],
      "source": [
        "class Temperature:\n",
        "    def __init__(self, celsius):\n",
        "\n",
        "        self._celsius = None\n",
        "        self.celsius = celsius\n",
        "\n",
        "    @property\n",
        "    def celsius(self):\n",
        "        \"\"\"\n",
        "        Геттер для температуры в Цельсиях.\n",
        "        Позволяет обращаться к self.celsius как к обычному атрибуту.\n",
        "        \"\"\"\n",
        "        return self._celsius\n",
        "\n",
        "    @celsius.setter\n",
        "    def celsius(self, value):\n",
        "        \"\"\"\n",
        "        Проверяет, что значение — число.\n",
        "        \"\"\"\n",
        "        if not isinstance(value, (int, float)):\n",
        "            raise ValueError(\"Температура должна быть числом (int или float)\")\n",
        "        self._celsius = value\n",
        "\n",
        "    @property\n",
        "    def fahrenheit(self):\n",
        "        \"\"\"\n",
        "        Динамическое свойство для получения температуры в Фаренгейтах.\n",
        "        Вычисляется на лету по формуле: F = C * 9/5 + 32\n",
        "        \"\"\"\n",
        "        return self._celsius * 9 / 5 + 32\n",
        "\n",
        "temp = Temperature(25)\n",
        "print(f\"Цельсий: {temp.celsius}\")\n",
        "print(f\"Фаренгейт: {temp.fahrenheit}\")\n",
        "\n",
        "temp.celsius = 100  # меняем температуру\n",
        "print(f\"Цельсий: {temp.celsius}\")\n",
        "print(f\"Фаренгейт: {temp.fahrenheit}\")"
      ]
    }
  ]
}